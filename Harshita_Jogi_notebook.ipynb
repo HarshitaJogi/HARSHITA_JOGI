{
 "cells": [
  {
   "cell_type": "markdown",
   "id": "ae6509f9-91ad-472e-acf7-7d17756e791c",
   "metadata": {},
   "source": [
    "<h1>My Jupyter Notebook on IBM Watson Studio"
   ]
  },
  {
   "cell_type": "markdown",
   "id": "19f3e69a-8db3-4110-ae62-28427749be42",
   "metadata": {},
   "source": [
    "<b> HARSHITA JOGI\n",
    "<p>I am currently a student pursuing Engineering\n"
   ]
  },
  {
   "cell_type": "markdown",
   "id": "2a755553-f544-4a54-ac27-6a102b107101",
   "metadata": {},
   "source": [
    "<i> I am interested in data science because I would love to contribute towards providing valuable and quality information to the hospitals in my counrty by analzsing their data  and helping them make accurate and efficient descisions, which in turn will save lives of many people."
   ]
  },
  {
   "cell_type": "markdown",
   "id": "d27aa68f-d94d-4db5-bafe-df449b6af1a7",
   "metadata": {},
   "source": [
    "<h3> The following code multiplies 2 with 5 and prints the output"
   ]
  },
  {
   "cell_type": "code",
   "execution_count": 1,
   "id": "9eab0fa9-dd42-4ef1-8fa8-b497ddab82c9",
   "metadata": {},
   "outputs": [
    {
     "name": "stdout",
     "output_type": "stream",
     "text": [
      "10\n"
     ]
    }
   ],
   "source": [
    "print(2*5)"
   ]
  },
  {
   "cell_type": "markdown",
   "id": "3d38840d-e9e8-4372-a7b9-90f4436d0b75",
   "metadata": {},
   "source": [
    "<ul>\n",
    "    <li>Milk</li>\n",
    "    <li>Cheese\n",
    "        <ul>\n",
    "            <li>Blue cheese</li>\n",
    "            <li>Feta</li>\n",
    "        </ul>\n",
    "    </li>\n",
    "</ul>\n"
   ]
  },
  {
   "cell_type": "code",
   "execution_count": 3,
   "id": "990f55be-a740-4a00-82be-d10adaea0ddf",
   "metadata": {},
   "outputs": [
    {
     "ename": "SyntaxError",
     "evalue": "invalid syntax (3816918984.py, line 1)",
     "output_type": "error",
     "traceback": [
      "\u001b[0;36m  File \u001b[0;32m\"/tmp/ipykernel_504/3816918984.py\"\u001b[0;36m, line \u001b[0;32m1\u001b[0m\n\u001b[0;31m    <ol>\u001b[0m\n\u001b[0m    ^\u001b[0m\n\u001b[0;31mSyntaxError\u001b[0m\u001b[0;31m:\u001b[0m invalid syntax\n"
     ]
    }
   ],
   "source": [
    "<ol>\n",
    "  <li>Mix flour, baking powder, sugar, salt.</li>\n",
    "  <li>In another bowl, mix eggs, milk, oil.</li>\n",
    "  <li>Stir both mixtures together.</li>\n",
    "  <li>Fill muffin tray 3/4 full.</li>\n",
    "  <li>Bake for 20 minutes.</li>\n",
    "</ol>\n",
    "    "
   ]
  },
  {
   "cell_type": "code",
   "execution_count": null,
   "id": "5aba3f5b-859f-4310-8235-b4e0fe439d5e",
   "metadata": {},
   "outputs": [],
   "source": []
  }
 ],
 "metadata": {
  "kernelspec": {
   "display_name": "Python",
   "language": "python",
   "name": "conda-env-python-py"
  },
  "language_info": {
   "codemirror_mode": {
    "name": "ipython",
    "version": 3
   },
   "file_extension": ".py",
   "mimetype": "text/x-python",
   "name": "python",
   "nbconvert_exporter": "python",
   "pygments_lexer": "ipython3",
   "version": "3.7.12"
  }
 },
 "nbformat": 4,
 "nbformat_minor": 5
}
